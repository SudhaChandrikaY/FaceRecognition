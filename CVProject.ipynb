{
  "cells": [
    {
      "cell_type": "markdown",
      "metadata": {
        "id": "n34TmxyB2itp"
      },
      "source": [
        "#**Part 1**"
      ]
    },
    {
      "cell_type": "code",
      "execution_count": null,
      "metadata": {
        "colab": {
          "base_uri": "https://localhost:8080/"
        },
        "id": "IMdk_6zC1ymv",
        "outputId": "14458b2f-3641-46b4-83f2-01067376c2e9"
      },
      "outputs": [
        {
          "output_type": "stream",
          "name": "stdout",
          "text": [
            "492 837 916 926 791 833 703 808 498 1041 \n",
            "748 309 766 712 615 743 841 648 652 757 \n",
            "809 694 423 479 808 442 942 501 877 564 \n",
            "828 585 588 292 643 535 717 550 762 571 \n",
            "822 573 568 584 401 681 777 418 618 627 \n",
            "657 690 545 545 810 142 750 539 785 694 \n",
            "733 792 907 781 774 780 190 819 659 868 \n",
            "693 630 477 523 608 524 774 159 643 696 \n",
            "587 534 769 701 560 678 612 565 293 852 \n",
            "972 701 582 546 627 633 833 578 928 195 \n",
            "d value: 2.9104273051320035\n"
          ]
        }
      ],
      "source": [
        "import matplotlib.pyplot as plt\n",
        "import numpy as np\n",
        "import pandas\n",
        "\n",
        "\n",
        "def HammingDistance(image1,image2):\n",
        "  count = 0\n",
        "  for i in range(len(image1)):\n",
        "    for j in range(len(image1[0])):\n",
        "      if(image1[i][j] != image2[i][j]):\n",
        "        count+=1\n",
        "  return count\n",
        "\n",
        "\n",
        "gallerySet = []\n",
        "for i in range(1,101):\n",
        "  img1 = plt.imread(\"GallerySet/subject\"+str(i)+\"_img1.pgm\")\n",
        "  gallerySet.append(img1)\n",
        "\n",
        "probeSet = []\n",
        "for i in range(1,101):\n",
        "  img2 = plt.imread(\"ProbeSet/subject\"+str(i)+\"_img2.pgm\")\n",
        "  probeSet.append(img2)\n",
        "\n",
        "\n",
        "def BinarizeImage(img):\n",
        "    Threshold = 128\n",
        "    img_bin = np.zeros_like(img)\n",
        "    img_bin[img > Threshold] = 1\n",
        "    return img_bin\n",
        "\n",
        "for i in range(len(gallerySet)):\n",
        "    gallerySet[i] = BinarizeImage(gallerySet[i])\n",
        "for i in range(len(probeSet)):\n",
        "    probeSet[i] = BinarizeImage(probeSet[i])\n",
        "\n",
        "\n",
        "ScoreMatrix = []\n",
        "for i in range(len(probeSet)):\n",
        "  ScoreMatrix.append([])\n",
        "  for j in range(len(gallerySet)):\n",
        "    ScoreMatrix[-1].append(HammingDistance(probeSet[i],gallerySet[j]))\n",
        "\n",
        "# print(ScoreMatrix)\n",
        "\n",
        "for i in range(10):\n",
        "  for j in range(10):\n",
        "    print(ScoreMatrix[i][j],end = \" \")\n",
        "  print()\n",
        "\n",
        "GenuineScores = []\n",
        "ImposterScores = []\n",
        "for i in range(100):\n",
        "  for j in range(100):\n",
        "    if i == j:\n",
        "      GenuineScores.append(ScoreMatrix[i][j])\n",
        "    else:\n",
        "      ImposterScores.append(ScoreMatrix[i][j])\n",
        "\n",
        "GenuineMean = np.mean(GenuineScores)\n",
        "ImposterMean = np.mean(ImposterScores)\n",
        "GenuineSTD = np.std(GenuineScores)\n",
        "ImposterSTD = np.std(ImposterScores)\n",
        "# Compute d'\n",
        "d_prime_A = ( np.sqrt(2) * abs((GenuineMean - ImposterMean)) ) / np.sqrt( (GenuineSTD ** 2 + ImposterSTD ** 2) )\n",
        "print('d value:', d_prime_A)"
      ]
    },
    {
      "cell_type": "markdown",
      "metadata": {
        "id": "VNWdQ5Ft2VUK"
      },
      "source": [
        "# **Part 2**"
      ]
    },
    {
      "cell_type": "code",
      "execution_count": null,
      "metadata": {
        "colab": {
          "base_uri": "https://localhost:8080/",
          "height": 1000
        },
        "id": "LPcM40bWqj8L",
        "outputId": "fa38b709-313e-4e99-de06-4f5f53a08bdb"
      },
      "outputs": [
        {
          "output_type": "display_data",
          "data": {
            "text/plain": [
              "<Figure size 640x480 with 1 Axes>"
            ],
            "image/png": "[encoded data removed]"
          },
          "metadata": {}
        },
        {
          "output_type": "display_data",
          "data": {
            "text/plain": [
              "<Figure size 640x480 with 1 Axes>"
            ],
            "image/png": "[encoded data removed]"
          },
          "metadata": {}
        },
        {
          "output_type": "stream",
          "name": "stdout",
          "text": [
            "498 832 911 892 796 813 650 1068 480 1017 \n",
            "742 274 717 682 560 731 776 880 640 711 \n",
            "792 674 401 486 760 427 890 780 880 523 \n",
            "810 566 583 306 592 553 698 822 756 509 \n",
            "799 539 540 559 401 664 759 661 643 588 \n",
            "624 664 529 552 760 143 706 790 760 637 \n",
            "677 751 890 725 791 746 183 1041 601 820 \n",
            "648 632 489 540 590 481 690 508 648 677 \n",
            "822 768 985 986 786 917 812 564 610 1069 \n",
            "948 658 537 524 564 629 822 792 922 177 \n",
            "d value: 5.8816731165010765\n"
          ]
        }
      ],
      "source": [
        "# Import required libraries\n",
        "import cv2\n",
        "import numpy as np\n",
        "from sklearn.metrics import pairwise_distances\n",
        "import matplotlib.pyplot as plt\n",
        "from skimage.feature import local_binary_pattern\n",
        "\n",
        "# Load images\n",
        "gallerySet = []\n",
        "probeSet = []\n",
        "for i in range(1, 101):\n",
        "    # Read images\n",
        "    img1 = cv2.imread(\"GallerySet/subject\"+str(i)+\"_img1.pgm\", cv2.IMREAD_GRAYSCALE)\n",
        "    img2 = cv2.imread(\"ProbeSet/subject\"+str(i)+\"_img2.pgm\", cv2.IMREAD_GRAYSCALE)\n",
        "    # Add image normalization\n",
        "    img1 = cv2.normalize(img1, None, alpha=0, beta=255, norm_type=cv2.NORM_MINMAX, dtype=cv2.CV_8U)\n",
        "    img2 = cv2.normalize(img2, None, alpha=0, beta=255, norm_type=cv2.NORM_MINMAX, dtype=cv2.CV_8U)\n",
        "    # Binarize images using Otsu's thresholding\n",
        "    Threshold, img1_bin = cv2.threshold(img1, 0, 255, cv2.THRESH_BINARY+cv2.THRESH_OTSU)\n",
        "    Threshold_Value, img2_bin = cv2.threshold(img2, 0, 255, cv2.THRESH_BINARY+cv2.THRESH_OTSU)\n",
        "\n",
        "    # Add binarized images to respective sets\n",
        "    gallerySet.append(img1_bin)\n",
        "    probeSet.append(img2_bin)\n",
        "\n",
        "#Training the Face Recognition Model using Local Binary Pattern Histogram (LBPH)\n",
        "FaceRecognizer = cv2.face.LBPHFaceRecognizer_create()\n",
        "FaceRecognizer.train(gallerySet, np.array(range(1, 101)))\n",
        "\n",
        "# Display an example image from the gallery set and the probe set\n",
        "plt.imshow(gallerySet[4], cmap='gray')\n",
        "plt.show()\n",
        "plt.imshow(probeSet[4],cmap='gray')\n",
        "plt.show()\n",
        "\n",
        "# Compute Hamming distances between all pairs of images in the probe set and the gallery set\n",
        "ScoreMatrix = []\n",
        "for i in range(len(probeSet)):\n",
        "    ScoreMatrix.append([])\n",
        "    for j in range(len(gallerySet)):\n",
        "        probeVec = probeSet[i].flatten()\n",
        "        galleryVec = gallerySet[j].flatten()\n",
        "        HammingDistance = np.count_nonzero(probeVec != galleryVec)\n",
        "        ScoreMatrix[-1].append(HammingDistance)\n",
        "\n",
        "# Print the Hamming distance matrix for the first 10 images\n",
        "for i in range(10):\n",
        "  for j in range(10):\n",
        "    print(ScoreMatrix[i][j],end = \" \")\n",
        "  print()\n",
        "\n",
        "# Compute genuine and imposter scores for each pair of images in the probe set and the gallery set\n",
        "GenuineScores = []\n",
        "ImposterScores = []\n",
        "for i in range(100):\n",
        "    for j in range(100):\n",
        "        if i == j:\n",
        "            # Compute the confidence score for genuine matches using the trained face recognition model\n",
        "            label, confidence = FaceRecognizer.predict(probeSet[i])\n",
        "            GenuineScores.append(confidence)\n",
        "        else:\n",
        "            # Add the Hamming distance as an imposter score\n",
        "            ImposterScores.append(ScoreMatrix[i][j])\n",
        "\n",
        "# Compute means and standard deviations of the genuine and imposter scores\n",
        "GenuineMean = np.mean(GenuineScores)\n",
        "ImposterMean = np.mean(ImposterScores)\n",
        "GenuineSTD = np.std(GenuineScores)\n",
        "ImposterSTD = np.std(ImposterScores)\n",
        "\n",
        "# Compute d'\n",
        "d_prime = (np.sqrt(2) * abs(GenuineMean - ImposterMean)) / np.sqrt(GenuineSTD ** 2 + ImposterSTD ** 2)\n",
        "print('d value:', d_prime)\n",
        "\n"
      ]
    },
    {
      "cell_type": "markdown",
      "source": [
        "# New Section"
      ],
      "metadata": {
        "id": "vZwqD5x7R6b5"
      }
    },
    {
      "cell_type": "code",
      "source": [
        "\n",
        "DeltaDPrime = d_prime - d_prime_A\n",
        "ImprovementFactor = round(DeltaDPrime, 2)\n",
        "print('Improvement factor:', ImprovementFactor)\n"
      ],
      "metadata": {
        "colab": {
          "base_uri": "https://localhost:8080/"
        },
        "id": "rYeSA-B16pg_",
        "outputId": "9131bf9e-eaed-4422-a12e-27581f9053d4"
      },
      "execution_count": null,
      "outputs": [
        {
          "output_type": "stream",
          "name": "stdout",
          "text": [
            "Improvement factor: 2.97\n"
          ]
        }
      ]
    },
    {
      "cell_type": "code",
      "source": [
        "#hamming distance\n",
        "def hamming_distance(image1,image2):\n",
        "  count = 0\n",
        "  for i in range(len(image1)):\n",
        "    for j in range(len(image1[0])):\n",
        "      if(image1[i][j] != image2[i][j]):\n",
        "        count+=1\n",
        "  return count\n",
        "\n",
        "  # Compute score matrix\n",
        "score_matrix = []\n",
        "for i in range(len(probeSet)):\n",
        "    score_matrix.append([])\n",
        "    for j in range(len(gallerySet)):\n",
        "        score_matrix[-1].append(hamming_distance(probeSet[i],gallerySet[j]))"
      ],
      "metadata": {
        "id": "VQG4hTFNVoxk"
      },
      "execution_count": null,
      "outputs": []
    },
    {
      "cell_type": "code",
      "source": [
        "import cv2\n",
        "import numpy as np\n",
        "from skimage.feature import hog\n",
        "from sklearn.svm import SVC\n",
        "from sklearn.metrics import confusion_matrix\n",
        "\n",
        "# Load images\n",
        "gallerySet = []\n",
        "probeSet = []\n",
        "for i in range(1, 101):\n",
        "    img1 = cv2.imread(\"GallerySet/subject\"+str(i)+\"_img1.pgm\", cv2.IMREAD_GRAYSCALE)\n",
        "    img2 = cv2.imread(\"ProbeSet/subject\"+str(i)+\"_img2.pgm\", cv2.IMREAD_GRAYSCALE)\n",
        "   # Apply histogram equalization\n",
        "    img1 = cv2.equalizeHist(img1)\n",
        "    img2 = cv2.equalizeHist(img2)\n",
        "    # Binarize images using Otsu's thresholding\n",
        "    Threshold, img1_bin = cv2.threshold(img1, 0, 255, cv2.THRESH_BINARY+cv2.THRESH_OTSU)\n",
        "    Threshold_Value, img2_bin = cv2.threshold(img2, 0, 255, cv2.THRESH_BINARY+cv2.THRESH_OTSU)\n",
        "    gallerySet.append(img1_bin)\n",
        "    probeSet.append(img2_bin)\n",
        "\n",
        "# Extract HOG features from images\n",
        "gallery_hog_features = []\n",
        "for img in gallerySet:\n",
        "    features = hog(img, orientations=9, pixels_per_cell=(8, 8), cells_per_block=(2, 2), block_norm='L2-Hys', feature_vector=True)\n",
        "    gallery_hog_features.append(features)\n",
        "\n",
        "probe_hog_features = []\n",
        "for img in probeSet:\n",
        "    features = hog(img, orientations=9, pixels_per_cell=(8, 8), cells_per_block=(2, 2), block_norm='L2-Hys', feature_vector=True)\n",
        "    probe_hog_features.append(features)\n",
        "\n",
        "# Train SVM classifier\n",
        "X_train = np.array(gallery_hog_features)\n",
        "y_train = np.arange(1, 101)\n",
        "svm = SVC(kernel='linear', C=2, random_state=50)\n",
        "svm.fit(X_train, y_train)\n",
        "\n",
        "# Test SVM classifier on ProbeSet\n",
        "y_pred = []\n",
        "for i in range(100):\n",
        "    X_test = np.array([probe_hog_features[i]])\n",
        "    y_pred.append(svm.predict(X_test))\n",
        "\n",
        "# Calculate genuine and imposter scores\n",
        "genuine_scores = []\n",
        "imposter_scores = []\n",
        "for i in range(100):\n",
        "    for j in range(100):\n",
        "        if i == j:\n",
        "            genuine_scores.append(1 if y_pred[i] == i+1 else 0)\n",
        "        else:\n",
        "            imposter_scores.append(1 if y_pred[i] == j+1 else 0)\n",
        "\n",
        "# Calculate the decidability index (d')\n",
        "genuine_mean = np.mean(genuine_scores)\n",
        "imposter_mean = np.mean(imposter_scores)\n",
        "genuine_std = np.std(genuine_scores)\n",
        "imposter_std = np.std(imposter_scores)\n",
        "d_prime = (np.sqrt(2) * abs(genuine_mean - imposter_mean)) / np.sqrt(genuine_std ** 2 + imposter_std ** 2)\n",
        "\n",
        "print(\"d' value using HOG features and SVM classification:\", d_prime)\n"
      ],
      "metadata": {
        "colab": {
          "base_uri": "https://localhost:8080/"
        },
        "id": "jivj2SVvCiOg",
        "outputId": "a0e867cb-c262-4c8a-99d9-12b6d1850792"
      },
      "execution_count": null,
      "outputs": [
        {
          "output_type": "stream",
          "name": "stdout",
          "text": [
            "d' value using HOG features and SVM classification: 2.8036757143453013\n"
          ]
        }
      ]
    },
    {
      "cell_type": "code",
      "source": [
        "import cv2\n",
        "import numpy as np\n",
        "from sklearn.metrics import pairwise_distances\n",
        "import matplotlib.pyplot as plt\n",
        "from skimage.feature import local_binary_pattern\n",
        "from google.colab import drive\n",
        "\n",
        "# Load images\n",
        "gallerySet = []\n",
        "probeSet = []\n",
        "for i in range(1, 101):\n",
        "    img1 = cv2.imread(\"GallerySet/subject\"+str(i)+\"_img1.pgm\", cv2.IMREAD_GRAYSCALE)\n",
        "    img2 = cv2.imread(\"ProbeSet/subject\"+str(i)+\"_img2.pgm\", cv2.IMREAD_GRAYSCALE)\n",
        "    # Apply histogram equalization\n",
        "    img1 = cv2.equalizeHist(img1)\n",
        "    img2 = cv2.equalizeHist(img2)\n",
        "    # Add image normalization\n",
        "    img1 = cv2.normalize(img1, None, alpha=0, beta=255, norm_type=cv2.NORM_MINMAX, dtype=cv2.CV_8U)\n",
        "    img2 = cv2.normalize(img2, None, alpha=0, beta=255, norm_type=cv2.NORM_MINMAX, dtype=cv2.CV_8U)\n",
        "\n",
        "    Threshold, img1_bin = cv2.threshold(img1, 0, 255, cv2.THRESH_BINARY+cv2.THRESH_OTSU)\n",
        "    Threshold_Value, img2_bin = cv2.threshold(img2, 0, 255, cv2.THRESH_BINARY+cv2.THRESH_OTSU)\n",
        "    gallerySet.append(img1_bin)\n",
        "    probeSet.append(img2_bin)\n",
        "\n",
        "#Training the Face Recognition Model\n",
        "face_recognizer = cv2.face.LBPHFaceRecognizer_create()\n",
        "face_recognizer.train(gallerySet, np.array(range(1, 101)))\n",
        "\n",
        "# Display an example image\n",
        "plt.imshow(gallerySet[4], cmap='gray')\n",
        "plt.show()\n",
        "plt.imshow(probeSet[4],cmap='gray')\n",
        "plt.show()\n",
        "\n",
        "score_matrix = []\n",
        "for i in range(len(probeSet)):\n",
        "    score_matrix.append([])\n",
        "    for j in range(len(gallerySet)):\n",
        "        probe_vec = probeSet[i].flatten()\n",
        "        gallery_vec = gallerySet[j].flatten()\n",
        "        hamming_dist = np.count_nonzero(probe_vec != gallery_vec)\n",
        "        score_matrix[-1].append(hamming_dist)\n",
        "\n",
        "# Print the Hamming distance matrix for the first 10 images\n",
        "for i in range(10):\n",
        "  for j in range(10):\n",
        "    print(score_matrix[i][j],end = \" \")\n",
        "  print()\n",
        "\n",
        "genuine_scores = []\n",
        "imposter_scores = []\n",
        "for i in range(100):\n",
        "    for j in range(100):\n",
        "        if i == j:\n",
        "            label, confidence = face_recognizer.predict(probeSet[i])\n",
        "            genuine_scores.append(confidence)\n",
        "        else:\n",
        "            imposter_scores.append(score_matrix[i][j])\n",
        "\n",
        "genuine_mean = np.mean(genuine_scores)\n",
        "imposter_mean = np.mean(imposter_scores)\n",
        "genuine_std = np.std(genuine_scores)\n",
        "imposter_std = np.std(imposter_scores)\n",
        "# Compute d'\n",
        "d_prime = (np.sqrt(2) * abs(genuine_mean - imposter_mean)) / np.sqrt(genuine_std ** 2 + imposter_std ** 2)\n",
        "print('d value:', d_prime)\n"
      ],
      "metadata": {
        "colab": {
          "base_uri": "https://localhost:8080/",
          "height": 1000
        },
        "id": "y7CF34yep1rO",
        "outputId": "d188b53d-e565-4102-ec22-141ca7ee43ed"
      },
      "execution_count": null,
      "outputs": [
        {
          "output_type": "display_data",
          "data": {
            "text/plain": [
              "<Figure size 640x480 with 1 Axes>"
            ],
            "image/png": "[encoded data removed]"
          },
          "metadata": {}
        },
        {
          "output_type": "display_data",
          "data": {
            "text/plain": [
              "<Figure size 640x480 with 1 Axes>"
            ],
            "image/png": "[encoded data removed]"
          },
          "metadata": {}
        },
        {
          "output_type": "stream",
          "name": "stdout",
          "text": [
            "497 846 917 925 800 834 711 807 503 1034 \n",
            "756 307 764 704 617 741 816 652 646 737 \n",
            "812 691 436 486 815 443 928 506 866 565 \n",
            "833 580 587 295 644 538 705 555 749 566 \n",
            "832 571 572 582 403 687 770 422 618 621 \n",
            "651 690 547 549 810 144 735 535 775 688 \n",
            "730 789 906 780 793 781 194 822 674 859 \n",
            "695 636 475 525 610 520 769 157 647 688 \n",
            "585 536 765 691 568 674 601 565 291 834 \n",
            "974 679 568 544 625 627 822 576 912 195 \n",
            "d value: 7.340910941227702\n"
          ]
        }
      ]
    }
  ],
  "metadata": {
    "colab": {
      "provenance": []
    },
    "kernelspec": {
      "display_name": "Python 3",
      "name": "python3"
    },
    "language_info": {
      "name": "python"
    }
  },
  "nbformat": 4,
  "nbformat_minor": 0
}